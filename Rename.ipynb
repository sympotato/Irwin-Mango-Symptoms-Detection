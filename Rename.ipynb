{
 "cells": [
  {
   "cell_type": "code",
   "execution_count": 1,
   "metadata": {},
   "outputs": [],
   "source": [
    "import os\n",
    "os.rename('/home/user/gift/pic512/0', '/home/user/gift/pic512/0')\n",
    "os.rename('/home/user/gift/pic512/1', '/home/user/gift/pic512/1')\n",
    "os.rename('/home/user/gift/pic512/2', '/home/user/gift/pic512/2')\n",
    "os.rename('/home/user/gift/pic512/3', '/home/user/gift/pic512/3')\n",
    "os.rename('/home/user/gift/pic512/4', '/home/user/gift/pic512/4')\n",
    "os.rename('/home/user/gift/pic512/01', '/home/user/gift/pic512/5')\n",
    "os.rename('/home/user/gift/pic512/02', '/home/user/gift/pic512/6')\n",
    "os.rename('/home/user/gift/pic512/03', '/home/user/gift/pic512/7')\n",
    "os.rename('/home/user/gift/pic512/04', '/home/user/gift/pic512/8')\n",
    "os.rename('/home/user/gift/pic512/12', '/home/user/gift/pic512/9')\n",
    "os.rename('/home/user/gift/pic512/13', '/home/user/gift/pic512/10')\n",
    "os.rename('/home/user/gift/pic512/14', '/home/user/gift/pic512/11')\n",
    "os.rename('/home/user/gift/pic512/23', '/home/user/gift/pic512/12')\n",
    "os.rename('/home/user/gift/pic512/24', '/home/user/gift/pic512/13')\n",
    "os.rename('/home/user/gift/pic512/34', '/home/user/gift/pic512/14')\n",
    "os.rename('/home/user/gift/pic512/012', '/home/user/gift/pic512/15')\n",
    "os.rename('/home/user/gift/pic512/013', '/home/user/gift/pic512/16')\n",
    "os.rename('/home/user/gift/pic512/014', '/home/user/gift/pic512/17')\n",
    "os.rename('/home/user/gift/pic512/023', '/home/user/gift/pic512/18')\n",
    "os.rename('/home/user/gift/pic512/024', '/home/user/gift/pic512/19')\n",
    "os.rename('/home/user/gift/pic512/034', '/home/user/gift/pic512/20')\n",
    "os.rename('/home/user/gift/pic512/123', '/home/user/gift/pic512/21')\n",
    "os.rename('/home/user/gift/pic512/124', '/home/user/gift/pic512/22')\n",
    "os.rename('/home/user/gift/pic512/134', '/home/user/gift/pic512/23')\n",
    "os.rename('/home/user/gift/pic512/234', '/home/user/gift/pic512/24')\n",
    "os.rename('/home/user/gift/pic512/0123', '/home/user/gift/pic512/25')\n",
    "os.rename('/home/user/gift/pic512/0124', '/home/user/gift/pic512/26')\n",
    "os.rename('/home/user/gift/pic512/0134', '/home/user/gift/pic512/27')\n",
    "os.rename('/home/user/gift/pic512/1234', '/home/user/gift/pic512/28')\n",
    "os.rename('/home/user/gift/pic512/01234', '/home/user/gift/pic512/29')\n"
   ]
  }
 ],
 "metadata": {
  "kernelspec": {
   "display_name": "Python 3",
   "language": "python",
   "name": "python3"
  },
  "language_info": {
   "codemirror_mode": {
    "name": "ipython",
    "version": 3
   },
   "file_extension": ".py",
   "mimetype": "text/x-python",
   "name": "python",
   "nbconvert_exporter": "python",
   "pygments_lexer": "ipython3",
   "version": "3.6.8"
  }
 },
 "nbformat": 4,
 "nbformat_minor": 5
}
